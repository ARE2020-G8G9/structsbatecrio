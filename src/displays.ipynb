{
 "cells": [
  {
   "cell_type": "code",
   "execution_count": null,
   "metadata": {},
   "outputs": [],
   "source": [
    "from tkinter import *\n",
    "from tkinter.messagebox import *\n",
    "import time\n",
    "import math\n",
    "import random\n",
    "import numpy as np\n",
    "from matplotlib import pyplot as plt\n",
    "import inits as ins\n",
    "import stats\n",
    "\n",
    "### Affichage\n",
    "def convert_to_array(boite):\n",
    "    res = []\n",
    "    for i in range(0, len(boite)):\n",
    "        temp = []\n",
    "        for j in range(0, len(boite[0])):\n",
    "            temp.append(boite[i][j]['contenu'])\n",
    "        res.append(temp)\n",
    "    return np.array(res)\n",
    "\n",
    "\"\"\"def convert_for_tkinter(boite):\n",
    "    res = []\n",
    "    for i in range(0, 49):\"\"\"\n",
    "\n",
    "def plot_boite(boite):\n",
    "    box = boite\n",
    "    A = convert_to_array(box)\n",
    "    plt.figure(figsize=(15,12)) # (30,30) = Taille de la figure\n",
    "    plt.imshow(A,cmap='viridis')\n",
    "    plt.colorbar()\n",
    "    plt.tick_params(top=False, bottom=False, right=False, left=False, labelleft=False, labelbottom=False)\n",
    "    plt.show()"
   ]
  }
 ],
 "metadata": {
  "kernelspec": {
   "display_name": "Python 3",
   "language": "python",
   "name": "python3"
  },
  "language_info": {
   "codemirror_mode": {
    "name": "ipython",
    "version": 3
   },
   "file_extension": ".py",
   "mimetype": "text/x-python",
   "name": "python",
   "nbconvert_exporter": "python",
   "pygments_lexer": "ipython3",
   "version": "3.7.6"
  }
 },
 "nbformat": 4,
 "nbformat_minor": 4
}
